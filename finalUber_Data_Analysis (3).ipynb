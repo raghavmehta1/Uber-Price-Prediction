{
  "cells": [
    {
      "cell_type": "markdown",
      "metadata": {
        "id": "xypdF9SidM1M"
      },
      "source": [
        "# Uber Data Analysis\n",
        "-----------------------------------------------------------------\n",
        "\n",
        "- Defining the problem statement\n",
        "\n",
        "\n",
        "- Collecting the data\n",
        "    * Kaggle\n",
        "    \n",
        "    \n",
        "- Exploratory data analysis\n",
        "\n",
        "\n",
        "- Feature engineering\n",
        "\n",
        "\n",
        "- Modelling\n",
        "\n",
        "\n",
        "- Testing"
      ]
    },
    {
      "cell_type": "markdown",
      "metadata": {
        "id": "ffa4DvAodM1N"
      },
      "source": [
        "## 1. Defining the problem statement\n",
        "____________________________________________________\n",
        "\n",
        "In this project, we study the data of Uber which is present in tabular format in which we use different libraries like numpy, pandas and matplotlib and different machine learning algorithms.\n",
        "\n",
        "We study different columns of the table and try to co-relate them with others and find a relation between those two.\n",
        "\n",
        "We try to find and analyze those key factors like date, month etc which helps Uber Company to enhance their business by focusing on those services and make required changes."
      ]
    },
    {
      "cell_type": "markdown",
      "metadata": {
        "id": "kf3pyArFdM1N"
      },
      "source": [
        "## 2. Collecting the data\n",
        "___________________________________"
      ]
    },
    {
      "cell_type": "code",
      "execution_count": null,
      "metadata": {
        "id": "spWe8wX-dM1O",
        "colab": {
          "base_uri": "https://localhost:8080/",
          "height": 235
        },
        "outputId": "5dca7f4a-b6dd-4378-eb8a-b7a5016f506c"
      },
      "outputs": [
        {
          "output_type": "error",
          "ename": "ParserError",
          "evalue": "Error tokenizing data. C error: EOF inside string starting at row 17772",
          "traceback": [
            "\u001b[0;31m---------------------------------------------------------------------------\u001b[0m",
            "\u001b[0;31mParserError\u001b[0m                               Traceback (most recent call last)",
            "\u001b[0;32m<ipython-input-12-19fbe0c9884b>\u001b[0m in \u001b[0;36m<cell line: 3>\u001b[0;34m()\u001b[0m\n\u001b[1;32m      1\u001b[0m \u001b[0;32mimport\u001b[0m \u001b[0mpandas\u001b[0m \u001b[0;32mas\u001b[0m \u001b[0mpd\u001b[0m\u001b[0;34m\u001b[0m\u001b[0;34m\u001b[0m\u001b[0m\n\u001b[1;32m      2\u001b[0m \u001b[0;34m\u001b[0m\u001b[0m\n\u001b[0;32m----> 3\u001b[0;31m \u001b[0muber_dataset\u001b[0m \u001b[0;34m=\u001b[0m \u001b[0mpd\u001b[0m\u001b[0;34m.\u001b[0m\u001b[0mread_csv\u001b[0m\u001b[0;34m(\u001b[0m\u001b[0;34mr\"./rideshare_kaggle.csv\"\u001b[0m\u001b[0;34m)\u001b[0m\u001b[0;34m\u001b[0m\u001b[0;34m\u001b[0m\u001b[0m\n\u001b[0m",
            "\u001b[0;32m/usr/local/lib/python3.10/dist-packages/pandas/io/parsers/readers.py\u001b[0m in \u001b[0;36mread_csv\u001b[0;34m(filepath_or_buffer, sep, delimiter, header, names, index_col, usecols, dtype, engine, converters, true_values, false_values, skipinitialspace, skiprows, skipfooter, nrows, na_values, keep_default_na, na_filter, verbose, skip_blank_lines, parse_dates, infer_datetime_format, keep_date_col, date_parser, date_format, dayfirst, cache_dates, iterator, chunksize, compression, thousands, decimal, lineterminator, quotechar, quoting, doublequote, escapechar, comment, encoding, encoding_errors, dialect, on_bad_lines, delim_whitespace, low_memory, memory_map, float_precision, storage_options, dtype_backend)\u001b[0m\n\u001b[1;32m    910\u001b[0m     \u001b[0mkwds\u001b[0m\u001b[0;34m.\u001b[0m\u001b[0mupdate\u001b[0m\u001b[0;34m(\u001b[0m\u001b[0mkwds_defaults\u001b[0m\u001b[0;34m)\u001b[0m\u001b[0;34m\u001b[0m\u001b[0;34m\u001b[0m\u001b[0m\n\u001b[1;32m    911\u001b[0m \u001b[0;34m\u001b[0m\u001b[0m\n\u001b[0;32m--> 912\u001b[0;31m     \u001b[0;32mreturn\u001b[0m \u001b[0m_read\u001b[0m\u001b[0;34m(\u001b[0m\u001b[0mfilepath_or_buffer\u001b[0m\u001b[0;34m,\u001b[0m \u001b[0mkwds\u001b[0m\u001b[0;34m)\u001b[0m\u001b[0;34m\u001b[0m\u001b[0;34m\u001b[0m\u001b[0m\n\u001b[0m\u001b[1;32m    913\u001b[0m \u001b[0;34m\u001b[0m\u001b[0m\n\u001b[1;32m    914\u001b[0m \u001b[0;34m\u001b[0m\u001b[0m\n",
            "\u001b[0;32m/usr/local/lib/python3.10/dist-packages/pandas/io/parsers/readers.py\u001b[0m in \u001b[0;36m_read\u001b[0;34m(filepath_or_buffer, kwds)\u001b[0m\n\u001b[1;32m    581\u001b[0m \u001b[0;34m\u001b[0m\u001b[0m\n\u001b[1;32m    582\u001b[0m     \u001b[0;32mwith\u001b[0m \u001b[0mparser\u001b[0m\u001b[0;34m:\u001b[0m\u001b[0;34m\u001b[0m\u001b[0;34m\u001b[0m\u001b[0m\n\u001b[0;32m--> 583\u001b[0;31m         \u001b[0;32mreturn\u001b[0m \u001b[0mparser\u001b[0m\u001b[0;34m.\u001b[0m\u001b[0mread\u001b[0m\u001b[0;34m(\u001b[0m\u001b[0mnrows\u001b[0m\u001b[0;34m)\u001b[0m\u001b[0;34m\u001b[0m\u001b[0;34m\u001b[0m\u001b[0m\n\u001b[0m\u001b[1;32m    584\u001b[0m \u001b[0;34m\u001b[0m\u001b[0m\n\u001b[1;32m    585\u001b[0m \u001b[0;34m\u001b[0m\u001b[0m\n",
            "\u001b[0;32m/usr/local/lib/python3.10/dist-packages/pandas/io/parsers/readers.py\u001b[0m in \u001b[0;36mread\u001b[0;34m(self, nrows)\u001b[0m\n\u001b[1;32m   1702\u001b[0m                     \u001b[0mcolumns\u001b[0m\u001b[0;34m,\u001b[0m\u001b[0;34m\u001b[0m\u001b[0;34m\u001b[0m\u001b[0m\n\u001b[1;32m   1703\u001b[0m                     \u001b[0mcol_dict\u001b[0m\u001b[0;34m,\u001b[0m\u001b[0;34m\u001b[0m\u001b[0;34m\u001b[0m\u001b[0m\n\u001b[0;32m-> 1704\u001b[0;31m                 \u001b[0;34m)\u001b[0m \u001b[0;34m=\u001b[0m \u001b[0mself\u001b[0m\u001b[0;34m.\u001b[0m\u001b[0m_engine\u001b[0m\u001b[0;34m.\u001b[0m\u001b[0mread\u001b[0m\u001b[0;34m(\u001b[0m  \u001b[0;31m# type: ignore[attr-defined]\u001b[0m\u001b[0;34m\u001b[0m\u001b[0;34m\u001b[0m\u001b[0m\n\u001b[0m\u001b[1;32m   1705\u001b[0m                     \u001b[0mnrows\u001b[0m\u001b[0;34m\u001b[0m\u001b[0;34m\u001b[0m\u001b[0m\n\u001b[1;32m   1706\u001b[0m                 )\n",
            "\u001b[0;32m/usr/local/lib/python3.10/dist-packages/pandas/io/parsers/c_parser_wrapper.py\u001b[0m in \u001b[0;36mread\u001b[0;34m(self, nrows)\u001b[0m\n\u001b[1;32m    232\u001b[0m         \u001b[0;32mtry\u001b[0m\u001b[0;34m:\u001b[0m\u001b[0;34m\u001b[0m\u001b[0;34m\u001b[0m\u001b[0m\n\u001b[1;32m    233\u001b[0m             \u001b[0;32mif\u001b[0m \u001b[0mself\u001b[0m\u001b[0;34m.\u001b[0m\u001b[0mlow_memory\u001b[0m\u001b[0;34m:\u001b[0m\u001b[0;34m\u001b[0m\u001b[0;34m\u001b[0m\u001b[0m\n\u001b[0;32m--> 234\u001b[0;31m                 \u001b[0mchunks\u001b[0m \u001b[0;34m=\u001b[0m \u001b[0mself\u001b[0m\u001b[0;34m.\u001b[0m\u001b[0m_reader\u001b[0m\u001b[0;34m.\u001b[0m\u001b[0mread_low_memory\u001b[0m\u001b[0;34m(\u001b[0m\u001b[0mnrows\u001b[0m\u001b[0;34m)\u001b[0m\u001b[0;34m\u001b[0m\u001b[0;34m\u001b[0m\u001b[0m\n\u001b[0m\u001b[1;32m    235\u001b[0m                 \u001b[0;31m# destructive to chunks\u001b[0m\u001b[0;34m\u001b[0m\u001b[0;34m\u001b[0m\u001b[0m\n\u001b[1;32m    236\u001b[0m                 \u001b[0mdata\u001b[0m \u001b[0;34m=\u001b[0m \u001b[0m_concatenate_chunks\u001b[0m\u001b[0;34m(\u001b[0m\u001b[0mchunks\u001b[0m\u001b[0;34m)\u001b[0m\u001b[0;34m\u001b[0m\u001b[0;34m\u001b[0m\u001b[0m\n",
            "\u001b[0;32m/usr/local/lib/python3.10/dist-packages/pandas/_libs/parsers.pyx\u001b[0m in \u001b[0;36mpandas._libs.parsers.TextReader.read_low_memory\u001b[0;34m()\u001b[0m\n",
            "\u001b[0;32m/usr/local/lib/python3.10/dist-packages/pandas/_libs/parsers.pyx\u001b[0m in \u001b[0;36mpandas._libs.parsers.TextReader._read_rows\u001b[0;34m()\u001b[0m\n",
            "\u001b[0;32m/usr/local/lib/python3.10/dist-packages/pandas/_libs/parsers.pyx\u001b[0m in \u001b[0;36mpandas._libs.parsers.TextReader._tokenize_rows\u001b[0;34m()\u001b[0m\n",
            "\u001b[0;32m/usr/local/lib/python3.10/dist-packages/pandas/_libs/parsers.pyx\u001b[0m in \u001b[0;36mpandas._libs.parsers.TextReader._check_tokenize_status\u001b[0;34m()\u001b[0m\n",
            "\u001b[0;32m/usr/local/lib/python3.10/dist-packages/pandas/_libs/parsers.pyx\u001b[0m in \u001b[0;36mpandas._libs.parsers.raise_parser_error\u001b[0;34m()\u001b[0m\n",
            "\u001b[0;31mParserError\u001b[0m: Error tokenizing data. C error: EOF inside string starting at row 17772"
          ]
        }
      ],
      "source": [
        "import pandas as pd\n",
        "\n",
        "uber_dataset = pd.read_csv(r\"./rideshare_kaggle.csv\")"
      ]
    },
    {
      "cell_type": "markdown",
      "metadata": {
        "id": "N-viUF78dM1P"
      },
      "source": [
        "## 3. Exploratory data analysis\n",
        "__________________________________________________\n",
        "\n",
        "Exploratory Data Analysis refers to the critical process of performing initial investigations on data so as to discover patterns,to spot anomalies,to test hypothesis and to check assumptions with the help of summary statistics and graphical representations.\n",
        "\n",
        "It is a good practice to understand the data first and try to gather as many insights from it.\n",
        "\n",
        "EDA is all about making sense of data in hand.\n"
      ]
    },
    {
      "cell_type": "code",
      "execution_count": null,
      "metadata": {
        "colab": {
          "base_uri": "https://localhost:8080/",
          "height": 141
        },
        "id": "CiH0o0t3dM1P",
        "outputId": "f5c52101-b72a-49e0-d050-9cc10e1921a7"
      },
      "outputs": [
        {
          "output_type": "error",
          "ename": "NameError",
          "evalue": "name 'uber_dataset' is not defined",
          "traceback": [
            "\u001b[0;31m---------------------------------------------------------------------------\u001b[0m",
            "\u001b[0;31mNameError\u001b[0m                                 Traceback (most recent call last)",
            "\u001b[0;32m<ipython-input-13-42e1370a03ee>\u001b[0m in \u001b[0;36m<cell line: 1>\u001b[0;34m()\u001b[0m\n\u001b[0;32m----> 1\u001b[0;31m \u001b[0muber_dataset\u001b[0m\u001b[0;34m.\u001b[0m\u001b[0mhead\u001b[0m\u001b[0;34m(\u001b[0m\u001b[0;34m)\u001b[0m\u001b[0;34m\u001b[0m\u001b[0;34m\u001b[0m\u001b[0m\n\u001b[0m",
            "\u001b[0;31mNameError\u001b[0m: name 'uber_dataset' is not defined"
          ]
        }
      ],
      "source": [
        "uber_dataset.head()"
      ]
    },
    {
      "cell_type": "code",
      "execution_count": null,
      "metadata": {
        "colab": {
          "base_uri": "https://localhost:8080/",
          "height": 141
        },
        "id": "XdZMx0oAdM1U",
        "outputId": "d6e7b194-2d5c-44ff-fa30-58e8c4ac4454"
      },
      "outputs": [
        {
          "output_type": "error",
          "ename": "NameError",
          "evalue": "name 'uber_dataset' is not defined",
          "traceback": [
            "\u001b[0;31m---------------------------------------------------------------------------\u001b[0m",
            "\u001b[0;31mNameError\u001b[0m                                 Traceback (most recent call last)",
            "\u001b[0;32m<ipython-input-14-362de8cbb4dc>\u001b[0m in \u001b[0;36m<cell line: 1>\u001b[0;34m()\u001b[0m\n\u001b[0;32m----> 1\u001b[0;31m \u001b[0muber_dataset\u001b[0m\u001b[0;34m.\u001b[0m\u001b[0mshape\u001b[0m\u001b[0;34m\u001b[0m\u001b[0;34m\u001b[0m\u001b[0m\n\u001b[0m",
            "\u001b[0;31mNameError\u001b[0m: name 'uber_dataset' is not defined"
          ]
        }
      ],
      "source": [
        "uber_dataset.shape"
      ]
    },
    {
      "cell_type": "code",
      "execution_count": null,
      "metadata": {
        "id": "X5IjbtnkdM1V"
      },
      "outputs": [],
      "source": [
        "uber_dataset.info()"
      ]
    },
    {
      "cell_type": "code",
      "execution_count": null,
      "metadata": {
        "id": "-C2M6UZkdM1W"
      },
      "outputs": [],
      "source": [
        "uber_dataset.describe()"
      ]
    },
    {
      "cell_type": "code",
      "execution_count": null,
      "metadata": {
        "id": "G79HQLtXdM1W"
      },
      "outputs": [],
      "source": [
        "uber_dataset.isnull().sum()"
      ]
    },
    {
      "cell_type": "markdown",
      "metadata": {
        "id": "byuNn6SDdM1X"
      },
      "source": [
        "## 4. Feature Engineering\n",
        "-----------------------------------------------------\n",
        "\n",
        "What is a feature and why we need the engineering of it? Basically, all machine learning algorithms use some input data to create outputs. This input data comprise features, which are usually in the form of structured columns. Algorithms require features with some specific characteristic to work properly. Here, the need for feature engineering arises.\n",
        "\n",
        "I think feature engineering efforts mainly have two goals:\n",
        "\n",
        "1) Preparing the proper input dataset, compatible with the machine learning algorithm requirements.\n",
        "\n",
        "2) Improving the performance of machine learning models.\n",
        "\n",
        "**According to a survey in Forbes, data scientists spend 80% of their time on data preparation:**"
      ]
    },
    {
      "cell_type": "markdown",
      "metadata": {
        "id": "dMEqz3Nn671w"
      },
      "source": [
        "### Ploting"
      ]
    },
    {
      "cell_type": "code",
      "execution_count": null,
      "metadata": {
        "id": "JWSl-RxHdM1X"
      },
      "outputs": [],
      "source": [
        "import matplotlib.pyplot as plt\n",
        "import numpy as np\n",
        "%matplotlib inline\n",
        "import seaborn as sns\n",
        "import pandas as pd"
      ]
    },
    {
      "cell_type": "markdown",
      "metadata": {
        "id": "i58T7AyjdM1X"
      },
      "source": [
        "#### Strip Plots"
      ]
    },
    {
      "cell_type": "code",
      "execution_count": null,
      "metadata": {
        "id": "kcMM9ZzAdM1X"
      },
      "outputs": [],
      "source": [
        "sns.stripplot(data=uber_dataset, x='price', y='name')"
      ]
    },
    {
      "cell_type": "code",
      "execution_count": null,
      "metadata": {
        "id": "Wd3NSU2Kpbif"
      },
      "outputs": [],
      "source": [
        "sns.stripplot(data=uber_dataset, x='price', y='icon')"
      ]
    },
    {
      "cell_type": "code",
      "execution_count": null,
      "metadata": {
        "id": "g-7nA4HMdM1Y"
      },
      "outputs": [],
      "source": [
        "sns.stripplot(data=uber_dataset, x='surge_multiplier', y='source')"
      ]
    },
    {
      "cell_type": "code",
      "execution_count": null,
      "metadata": {
        "id": "Lac88Z51dM1Y"
      },
      "outputs": [],
      "source": [
        "sns.stripplot(data=uber_dataset, x='surge_multiplier', y='hour')"
      ]
    },
    {
      "cell_type": "markdown",
      "metadata": {
        "id": "qi1G0xr8dM1Y"
      },
      "source": [
        "#### Converting Timestamp to Datetime value"
      ]
    },
    {
      "cell_type": "code",
      "execution_count": null,
      "metadata": {
        "id": "wCQGBqcFdM1Y"
      },
      "outputs": [],
      "source": [
        "uber_dataset['timestamp'].head()"
      ]
    },
    {
      "cell_type": "code",
      "execution_count": null,
      "metadata": {
        "id": "W-GSXKy-x7kA"
      },
      "outputs": [],
      "source": [
        "from datetime import datetime\n",
        "timestamp1 = 1544952608\n",
        "timestamp2 = 1543284024\n",
        "timestamp3 = 1543818483\n",
        "timestamp4 = 1543594384\n",
        "timestamp5 = 1544728504\n",
        "dt_object1 = datetime.fromtimestamp(timestamp1)\n",
        "dt_object2 = datetime.fromtimestamp(timestamp2)\n",
        "dt_object3 = datetime.fromtimestamp(timestamp3)\n",
        "dt_object4 = datetime.fromtimestamp(timestamp4)\n",
        "dt_object5 = datetime.fromtimestamp(timestamp5)\n",
        "\n",
        "print(\"dt_object =\", dt_object1)\n",
        "print(\"dt_object =\", dt_object2)\n",
        "print(\"dt_object =\", dt_object3)\n",
        "print(\"dt_object =\", dt_object4)\n",
        "print(\"dt_object =\", dt_object5)"
      ]
    },
    {
      "cell_type": "markdown",
      "metadata": {
        "id": "A5zasV9rx7kB"
      },
      "source": [
        "- So by this timestamp to datetime conversion we get to know that, our data is of the year 2018 and in the month of november and december only"
      ]
    },
    {
      "cell_type": "markdown",
      "metadata": {
        "id": "dRoH3R3SdM1Z"
      },
      "source": [
        "#### Bar plots"
      ]
    },
    {
      "cell_type": "code",
      "execution_count": null,
      "metadata": {
        "id": "p-9XJDcldM1Z"
      },
      "outputs": [],
      "source": [
        "uber_dataset['month'].value_counts().plot(kind='bar', figsize=(10,5), color='blue')"
      ]
    },
    {
      "cell_type": "code",
      "execution_count": null,
      "metadata": {
        "id": "GlQWkPWydM1a"
      },
      "outputs": [],
      "source": [
        "uber_dataset['source'].value_counts().plot(kind='bar', figsize=(10,5), color='green')"
      ]
    },
    {
      "cell_type": "code",
      "execution_count": null,
      "metadata": {
        "id": "PoyZzStKdM1a"
      },
      "outputs": [],
      "source": [
        "uber_dataset['name'].value_counts().plot(kind='bar', figsize=(10,5), color='orange')"
      ]
    },
    {
      "cell_type": "code",
      "execution_count": null,
      "metadata": {
        "id": "FnccWsNkdM1a"
      },
      "outputs": [],
      "source": [
        "uber_dataset['icon'].value_counts().plot(kind='bar', figsize=(10,5), color='red')"
      ]
    },
    {
      "cell_type": "code",
      "execution_count": null,
      "metadata": {
        "id": "n_R2K2icdM1a"
      },
      "outputs": [],
      "source": [
        "uber_dataset['uvIndex'].value_counts().plot(kind='bar', figsize=(10,5), color='brown')"
      ]
    },
    {
      "cell_type": "code",
      "execution_count": null,
      "metadata": {
        "id": "NuEyhvgadM1b"
      },
      "outputs": [],
      "source": [
        "uber_dataset['moonPhase'].value_counts().plot(kind='bar', figsize=(10,5), color='orange')"
      ]
    },
    {
      "cell_type": "code",
      "execution_count": null,
      "metadata": {
        "id": "br6awwc4dM1b"
      },
      "outputs": [],
      "source": [
        "uber_dataset['precipProbability'].value_counts().plot(kind='bar', figsize=(10,5), color='blue')"
      ]
    },
    {
      "cell_type": "markdown",
      "metadata": {
        "id": "JXZS2rP2dM1b"
      },
      "source": [
        "### Label Encoding"
      ]
    },
    {
      "cell_type": "code",
      "execution_count": null,
      "metadata": {
        "id": "jifvbsGzdM1b"
      },
      "outputs": [],
      "source": [
        "# Import label encoder\n",
        "from sklearn import preprocessing\n",
        "\n",
        "# label_encoder object knows how to understand word labels.\n",
        "label_encoder = preprocessing.LabelEncoder()"
      ]
    },
    {
      "cell_type": "code",
      "execution_count": null,
      "metadata": {
        "id": "1_sciw5SdM1b"
      },
      "outputs": [],
      "source": [
        "uber_dataset.dtypes"
      ]
    },
    {
      "cell_type": "code",
      "execution_count": null,
      "metadata": {
        "id": "O5cfcE3ex7kF"
      },
      "outputs": [],
      "source": [
        "uber_dataset['id']= label_encoder.fit_transform(uber_dataset['id'])\n",
        "uber_dataset['datetime']= label_encoder.fit_transform(uber_dataset['datetime'])\n",
        "uber_dataset['timezone']= label_encoder.fit_transform(uber_dataset['timezone'])\n",
        "uber_dataset['destination']= label_encoder.fit_transform(uber_dataset['destination'])\n",
        "uber_dataset['product_id']= label_encoder.fit_transform(uber_dataset['product_id'])\n",
        "uber_dataset['short_summary']= label_encoder.fit_transform(uber_dataset['short_summary'])\n",
        "uber_dataset['long_summary']= label_encoder.fit_transform(uber_dataset['long_summary'])"
      ]
    },
    {
      "cell_type": "code",
      "execution_count": null,
      "metadata": {
        "id": "eCLbfppAx7kG"
      },
      "outputs": [],
      "source": [
        "uber_dataset['source']= label_encoder.fit_transform(uber_dataset['source'])\n",
        "\n",
        "print(\"Class mapping of Source: \")\n",
        "for i, item in enumerate(label_encoder.classes_):\n",
        "    print(item, \"-->\", i)"
      ]
    },
    {
      "cell_type": "code",
      "source": [
        "uber_dataset['cab_type']= label_encoder.fit_transform(uber_dataset['cab_type'])\n",
        "\n",
        "print(\"Class mapping of Name: \")\n",
        "for i, item in enumerate(label_encoder.classes_):\n",
        "    print(item, \"-->\", i)"
      ],
      "metadata": {
        "id": "YMTo77Wm3GE8"
      },
      "execution_count": null,
      "outputs": []
    },
    {
      "cell_type": "code",
      "execution_count": null,
      "metadata": {
        "id": "ivBQPVZZx7kF"
      },
      "outputs": [],
      "source": [
        "uber_dataset['name']= label_encoder.fit_transform(uber_dataset['name'])\n",
        "\n",
        "print(\"Class mapping of Name: \")\n",
        "for i, item in enumerate(label_encoder.classes_):\n",
        "    print(item, \"-->\", i)"
      ]
    },
    {
      "cell_type": "code",
      "execution_count": null,
      "metadata": {
        "id": "z5JEPXQ9dM1b"
      },
      "outputs": [],
      "source": [
        "uber_dataset['icon']= label_encoder.fit_transform(uber_dataset['icon'])\n",
        "\n",
        "print(\"Class mapping of Icon: \")\n",
        "for i, item in enumerate(label_encoder.classes_):\n",
        "    print(item, \"-->\", i)"
      ]
    },
    {
      "cell_type": "code",
      "execution_count": null,
      "metadata": {
        "colab": {
          "base_uri": "https://localhost:8080/",
          "height": 141
        },
        "id": "kFeWRoYTdM1c",
        "outputId": "46475d54-0540-4928-d37f-fe6cee287f5e"
      },
      "outputs": [
        {
          "output_type": "error",
          "ename": "NameError",
          "evalue": "name 'uber_dataset' is not defined",
          "traceback": [
            "\u001b[0;31m---------------------------------------------------------------------------\u001b[0m",
            "\u001b[0;31mNameError\u001b[0m                                 Traceback (most recent call last)",
            "\u001b[0;32m<ipython-input-15-db48c76712f5>\u001b[0m in \u001b[0;36m<cell line: 1>\u001b[0;34m()\u001b[0m\n\u001b[0;32m----> 1\u001b[0;31m \u001b[0muber_dataset\u001b[0m\u001b[0;34m.\u001b[0m\u001b[0mdtypes\u001b[0m\u001b[0;34m\u001b[0m\u001b[0;34m\u001b[0m\u001b[0m\n\u001b[0m",
            "\u001b[0;31mNameError\u001b[0m: name 'uber_dataset' is not defined"
          ]
        }
      ],
      "source": [
        "uber_dataset.dtypes"
      ]
    },
    {
      "cell_type": "code",
      "execution_count": null,
      "metadata": {
        "id": "eZiAMOtUdM1c"
      },
      "outputs": [],
      "source": [
        "uber_dataset.head()"
      ]
    },
    {
      "cell_type": "markdown",
      "metadata": {
        "id": "p17aW6tHdM1c"
      },
      "source": [
        "### Filling NAN Values"
      ]
    },
    {
      "cell_type": "code",
      "execution_count": null,
      "metadata": {
        "id": "2eeT-9fJdM1c"
      },
      "outputs": [],
      "source": [
        "uber_dataset.isnull().sum()"
      ]
    },
    {
      "cell_type": "code",
      "source": [
        "uber_dataset['apparentTemperatureMaxTime'].median()"
      ],
      "metadata": {
        "id": "aXPQwGi65rDs"
      },
      "execution_count": null,
      "outputs": []
    },
    {
      "cell_type": "code",
      "source": [
        "uber_dataset[\"apparentTemperatureMaxTime\"].fillna(1543784400.0, inplace = True)"
      ],
      "metadata": {
        "id": "UniEydp-59Cc"
      },
      "execution_count": null,
      "outputs": []
    },
    {
      "cell_type": "code",
      "execution_count": null,
      "metadata": {
        "id": "qS-MXbVKdM1c"
      },
      "outputs": [],
      "source": [
        "uber_dataset['price'].median()"
      ]
    },
    {
      "cell_type": "code",
      "execution_count": null,
      "metadata": {
        "id": "FA5TXwDqdM1d",
        "colab": {
          "base_uri": "https://localhost:8080/",
          "height": 141
        },
        "outputId": "3a345234-bb37-4804-bacc-35b5fd2515bc"
      },
      "outputs": [
        {
          "output_type": "error",
          "ename": "NameError",
          "evalue": "name 'uber_dataset' is not defined",
          "traceback": [
            "\u001b[0;31m---------------------------------------------------------------------------\u001b[0m",
            "\u001b[0;31mNameError\u001b[0m                                 Traceback (most recent call last)",
            "\u001b[0;32m<ipython-input-16-eb388ff9ee08>\u001b[0m in \u001b[0;36m<cell line: 1>\u001b[0;34m()\u001b[0m\n\u001b[0;32m----> 1\u001b[0;31m \u001b[0muber_dataset\u001b[0m\u001b[0;34m[\u001b[0m\u001b[0;34m\"price\"\u001b[0m\u001b[0;34m]\u001b[0m\u001b[0;34m.\u001b[0m\u001b[0mfillna\u001b[0m\u001b[0;34m(\u001b[0m\u001b[0;36m13.5\u001b[0m\u001b[0;34m,\u001b[0m \u001b[0minplace\u001b[0m \u001b[0;34m=\u001b[0m \u001b[0;32mTrue\u001b[0m\u001b[0;34m)\u001b[0m\u001b[0;34m\u001b[0m\u001b[0;34m\u001b[0m\u001b[0m\n\u001b[0m",
            "\u001b[0;31mNameError\u001b[0m: name 'uber_dataset' is not defined"
          ]
        }
      ],
      "source": [
        "uber_dataset[\"price\"].fillna(13.5, inplace = True)"
      ]
    },
    {
      "cell_type": "code",
      "source": [],
      "metadata": {
        "id": "Le2P892U6jlu"
      },
      "execution_count": null,
      "outputs": []
    },
    {
      "cell_type": "code",
      "execution_count": null,
      "metadata": {
        "id": "mhBj24RTdM1d"
      },
      "outputs": [],
      "source": [
        "uber_dataset.isnull().sum()"
      ]
    },
    {
      "cell_type": "code",
      "source": [
        "uber_dataset = uber_dataset.dropna()"
      ],
      "metadata": {
        "id": "qAcqtED6-0wU"
      },
      "execution_count": null,
      "outputs": []
    },
    {
      "cell_type": "code",
      "execution_count": null,
      "metadata": {
        "id": "Lai8rBR2x7kh"
      },
      "outputs": [],
      "source": [
        "uber_dataset['price'].dtype"
      ]
    },
    {
      "cell_type": "code",
      "execution_count": null,
      "metadata": {
        "id": "wC9JoPQAx7kh"
      },
      "outputs": [],
      "source": [
        "uber_dataset['price'] = uber_dataset['price'].astype(int)"
      ]
    },
    {
      "cell_type": "code",
      "execution_count": null,
      "metadata": {
        "colab": {
          "base_uri": "https://localhost:8080/",
          "height": 141
        },
        "id": "_bEf2I-hx7ki",
        "outputId": "80160968-12f0-4dc4-f816-83c7061cfcb5"
      },
      "outputs": [
        {
          "output_type": "error",
          "ename": "NameError",
          "evalue": "name 'uber_dataset' is not defined",
          "traceback": [
            "\u001b[0;31m---------------------------------------------------------------------------\u001b[0m",
            "\u001b[0;31mNameError\u001b[0m                                 Traceback (most recent call last)",
            "\u001b[0;32m<ipython-input-17-4f056fb000f0>\u001b[0m in \u001b[0;36m<cell line: 1>\u001b[0;34m()\u001b[0m\n\u001b[0;32m----> 1\u001b[0;31m \u001b[0muber_dataset\u001b[0m\u001b[0;34m[\u001b[0m\u001b[0;34m'price'\u001b[0m\u001b[0;34m]\u001b[0m\u001b[0;34m.\u001b[0m\u001b[0mhead\u001b[0m\u001b[0;34m(\u001b[0m\u001b[0;34m)\u001b[0m\u001b[0;34m\u001b[0m\u001b[0;34m\u001b[0m\u001b[0m\n\u001b[0m",
            "\u001b[0;31mNameError\u001b[0m: name 'uber_dataset' is not defined"
          ]
        }
      ],
      "source": [
        "uber_dataset['price'].head()"
      ]
    },
    {
      "cell_type": "markdown",
      "metadata": {
        "id": "U5UVpEBndM1d"
      },
      "source": [
        "### RFE (Recursive Feature Elimination)"
      ]
    },
    {
      "cell_type": "code",
      "execution_count": null,
      "metadata": {
        "id": "phS20dKJdM1d"
      },
      "outputs": [],
      "source": [
        "import numpy as np\n",
        "from sklearn.feature_selection import SelectKBest\n",
        "from sklearn.feature_selection import chi2"
      ]
    },
    {
      "cell_type": "code",
      "execution_count": null,
      "metadata": {
        "id": "1Yq3zRhydM1d"
      },
      "outputs": [],
      "source": [
        "from sklearn.model_selection import train_test_split\n",
        "from sklearn.metrics import accuracy_score"
      ]
    },
    {
      "cell_type": "code",
      "execution_count": null,
      "metadata": {
        "id": "VijCz7WxdM1d"
      },
      "outputs": [],
      "source": [
        "from sklearn.linear_model import LinearRegression\n",
        "from sklearn.linear_model import LogisticRegression\n",
        "from sklearn.tree import DecisionTreeRegressor\n",
        "from sklearn.ensemble import RandomForestRegressor"
      ]
    },
    {
      "cell_type": "code",
      "execution_count": null,
      "metadata": {
        "id": "MFRqNu2hdM1k"
      },
      "outputs": [],
      "source": [
        "from sklearn.feature_selection import RFE"
      ]
    },
    {
      "cell_type": "code",
      "execution_count": null,
      "metadata": {
        "id": "PKmO97t6dM1d"
      },
      "outputs": [],
      "source": [
        "X = uber_dataset.drop('price', axis = 1)\n",
        "y = uber_dataset['price']"
      ]
    },
    {
      "cell_type": "code",
      "execution_count": null,
      "metadata": {
        "id": "ggSQPNlFdM1e"
      },
      "outputs": [],
      "source": [
        "X.head()"
      ]
    },
    {
      "cell_type": "code",
      "execution_count": null,
      "metadata": {
        "id": "fGI0HiS7dM1e"
      },
      "outputs": [],
      "source": [
        "y.head()"
      ]
    },
    {
      "cell_type": "code",
      "execution_count": null,
      "metadata": {
        "colab": {
          "base_uri": "https://localhost:8080/",
          "height": 141
        },
        "id": "USgYIlhUdM1e",
        "outputId": "1b36848c-a56c-4cb5-a525-e5c8f36787d3"
      },
      "outputs": [
        {
          "output_type": "error",
          "ename": "NameError",
          "evalue": "name 'X' is not defined",
          "traceback": [
            "\u001b[0;31m---------------------------------------------------------------------------\u001b[0m",
            "\u001b[0;31mNameError\u001b[0m                                 Traceback (most recent call last)",
            "\u001b[0;32m<ipython-input-18-bc5f1a0adac8>\u001b[0m in \u001b[0;36m<cell line: 1>\u001b[0;34m()\u001b[0m\n\u001b[0;32m----> 1\u001b[0;31m \u001b[0mX\u001b[0m\u001b[0;34m.\u001b[0m\u001b[0mshape\u001b[0m\u001b[0;34m\u001b[0m\u001b[0;34m\u001b[0m\u001b[0m\n\u001b[0m",
            "\u001b[0;31mNameError\u001b[0m: name 'X' is not defined"
          ]
        }
      ],
      "source": [
        "X.shape"
      ]
    },
    {
      "cell_type": "code",
      "execution_count": null,
      "metadata": {
        "id": "iaHGgGuRdM1e"
      },
      "outputs": [],
      "source": [
        "y.shape"
      ]
    },
    {
      "cell_type": "code",
      "execution_count": null,
      "metadata": {
        "id": "fb_OfkjxdM1f"
      },
      "outputs": [],
      "source": [
        "y.value_counts().plot(kind='bar',figsize=(30,8),color='red')"
      ]
    },
    {
      "cell_type": "markdown",
      "metadata": {
        "id": "VnOoeBJBdM1h"
      },
      "source": [
        "#### Training accuracy in 56 features"
      ]
    },
    {
      "cell_type": "code",
      "execution_count": null,
      "metadata": {
        "id": "8jbdiPe6dM1h"
      },
      "outputs": [],
      "source": [
        "X_train, X_test, y_train, y_test = train_test_split(X, y, test_size = 0.2, random_state = 42)"
      ]
    },
    {
      "cell_type": "code",
      "execution_count": null,
      "metadata": {
        "id": "ZUBi6xh2dM1i"
      },
      "outputs": [],
      "source": [
        "X_train.shape"
      ]
    },
    {
      "cell_type": "code",
      "execution_count": null,
      "metadata": {
        "id": "HPf6X636dM1i"
      },
      "outputs": [],
      "source": [
        "X_test.shape"
      ]
    },
    {
      "cell_type": "code",
      "execution_count": null,
      "metadata": {
        "id": "PXsH6kstdM1i"
      },
      "outputs": [],
      "source": [
        "y_train.shape"
      ]
    },
    {
      "cell_type": "code",
      "execution_count": null,
      "metadata": {
        "id": "z6PjvSAodM1i"
      },
      "outputs": [],
      "source": [
        "y_test.shape"
      ]
    },
    {
      "cell_type": "code",
      "execution_count": null,
      "metadata": {
        "id": "QDXhk-s4dM1j"
      },
      "outputs": [],
      "source": [
        "#Creating model\n",
        "reg = LinearRegression()\n",
        "#Fitting training data\n",
        "reg = reg.fit(X_train, y_train)"
      ]
    },
    {
      "cell_type": "code",
      "execution_count": null,
      "metadata": {
        "id": "emmuRAZXuaUe"
      },
      "outputs": [],
      "source": [
        "reg.score(X_train, y_train)"
      ]
    },
    {
      "cell_type": "markdown",
      "metadata": {
        "id": "NQfX7mOJdM1k"
      },
      "source": [
        "#### Training accuracy in 40 features"
      ]
    },
    {
      "cell_type": "code",
      "execution_count": null,
      "metadata": {
        "id": "PwJBW2TSdM1k"
      },
      "outputs": [],
      "source": [
        "rfe = RFE(reg, n_features_to_select=40, verbose=1)\n",
        "rfe = rfe.fit(X, y)"
      ]
    },
    {
      "cell_type": "code",
      "execution_count": null,
      "metadata": {
        "id": "iAmcmLvbdM1l"
      },
      "outputs": [],
      "source": [
        "rfe.support_"
      ]
    },
    {
      "cell_type": "code",
      "execution_count": null,
      "metadata": {
        "id": "OCLPpCOJdM1l"
      },
      "outputs": [],
      "source": [
        "XX = X[X.columns[rfe.support_]]"
      ]
    },
    {
      "cell_type": "code",
      "execution_count": null,
      "metadata": {
        "id": "3aj1xRtHdM1l"
      },
      "outputs": [],
      "source": [
        "XX.head()"
      ]
    },
    {
      "cell_type": "code",
      "execution_count": null,
      "metadata": {
        "id": "c2kjryu8dM1m"
      },
      "outputs": [],
      "source": [
        "X_train, X_test, y_train, y_test = train_test_split(XX, y, test_size = 0.3, random_state = 10)"
      ]
    },
    {
      "cell_type": "code",
      "execution_count": null,
      "metadata": {
        "id": "UuoCsIBedM1m"
      },
      "outputs": [],
      "source": [
        "X_train.shape"
      ]
    },
    {
      "cell_type": "code",
      "execution_count": null,
      "metadata": {
        "id": "bGrDwcGGdM1n"
      },
      "outputs": [],
      "source": [
        "#Creating model\n",
        "reg1 = LinearRegression()\n",
        "#Fitting training data\n",
        "reg1 = reg1.fit(X_train, y_train)"
      ]
    },
    {
      "cell_type": "code",
      "execution_count": null,
      "metadata": {
        "id": "7FBGsIIHuzQN"
      },
      "outputs": [],
      "source": [
        "reg1.score(X_train, y_train)"
      ]
    },
    {
      "cell_type": "markdown",
      "metadata": {
        "id": "Mh22ZUP-dM1q"
      },
      "source": [
        "#### Training accuracy in 15 features"
      ]
    },
    {
      "cell_type": "code",
      "execution_count": null,
      "metadata": {
        "id": "vYWk7nzQdM1q"
      },
      "outputs": [],
      "source": [
        "rfe = RFE(reg, n_features_to_select=15, verbose=1)\n",
        "rfe = rfe.fit(X, y)"
      ]
    },
    {
      "cell_type": "code",
      "execution_count": null,
      "metadata": {
        "id": "m8ui7o4RdM1r"
      },
      "outputs": [],
      "source": [
        "XX = X[X.columns[rfe.support_]]"
      ]
    },
    {
      "cell_type": "code",
      "execution_count": null,
      "metadata": {
        "id": "DhzD1Ef4dM1r"
      },
      "outputs": [],
      "source": [
        "XX.head()"
      ]
    },
    {
      "cell_type": "code",
      "execution_count": null,
      "metadata": {
        "id": "ae9WHnCjdM1s"
      },
      "outputs": [],
      "source": [
        "X_train, X_test, y_train, y_test = train_test_split(XX, y, test_size = 0.3, random_state = 10,)"
      ]
    },
    {
      "cell_type": "code",
      "execution_count": null,
      "metadata": {
        "id": "CjBN3eXPdM1s"
      },
      "outputs": [],
      "source": [
        "X_train.shape"
      ]
    },
    {
      "cell_type": "code",
      "execution_count": null,
      "metadata": {
        "id": "Stovz796dM1t"
      },
      "outputs": [],
      "source": [
        "#Creating model\n",
        "reg1 = LinearRegression()\n",
        "#Fitting training data\n",
        "reg1 = reg1.fit(X_train, y_train)"
      ]
    },
    {
      "cell_type": "code",
      "execution_count": null,
      "metadata": {
        "id": "aVUbWQxldM1t"
      },
      "outputs": [],
      "source": [
        "reg1.score(X_train, y_train)"
      ]
    },
    {
      "cell_type": "markdown",
      "metadata": {
        "id": "r5gtEk3WdM1n"
      },
      "source": [
        "#### Training accuracy in 25 features"
      ]
    },
    {
      "cell_type": "code",
      "execution_count": null,
      "metadata": {
        "id": "fEsXKaUidM1o"
      },
      "outputs": [],
      "source": [
        "rfe = RFE(reg, n_features_to_select=25, verbose=1)\n",
        "rfe = rfe.fit(X, y)"
      ]
    },
    {
      "cell_type": "code",
      "execution_count": null,
      "metadata": {
        "id": "okh284U_dM1o"
      },
      "outputs": [],
      "source": [
        "XX = X[X.columns[rfe.support_]]"
      ]
    },
    {
      "cell_type": "code",
      "source": [
        "XX.isnull().sum()"
      ],
      "metadata": {
        "id": "DBctRYGGCkB6"
      },
      "execution_count": null,
      "outputs": []
    },
    {
      "cell_type": "code",
      "execution_count": null,
      "metadata": {
        "id": "dCrDntLidM1o"
      },
      "outputs": [],
      "source": [
        "XX.head()"
      ]
    },
    {
      "cell_type": "code",
      "execution_count": null,
      "metadata": {
        "id": "a4bIu5BBdM1p"
      },
      "outputs": [],
      "source": [
        "X_train, X_test, y_train, y_test = train_test_split(XX, y, test_size = 0.3, random_state = 20,)"
      ]
    },
    {
      "cell_type": "code",
      "execution_count": null,
      "metadata": {
        "id": "B5mo6yv5dM1p"
      },
      "outputs": [],
      "source": [
        "X_train.shape"
      ]
    },
    {
      "cell_type": "code",
      "execution_count": null,
      "metadata": {
        "id": "R9iOX2L3dM1p"
      },
      "outputs": [],
      "source": [
        "#Creating model\n",
        "reg1 = LinearRegression()\n",
        "#Fitting training data\n",
        "reg1 = reg1.fit(X_train, y_train)\n",
        "#Y prediction\n",
        "Y_pred = reg1.predict(X_test)"
      ]
    },
    {
      "cell_type": "code",
      "execution_count": null,
      "metadata": {
        "id": "yyphrzfLdM1q"
      },
      "outputs": [],
      "source": [
        "reg1.score(X_train, y_train)"
      ]
    },
    {
      "cell_type": "markdown",
      "metadata": {
        "id": "6GT_96u2dM1u"
      },
      "source": [
        "- Since we find the accuracy for  k = 56 , 40 , 25 and 15.\n",
        "- Hence we noticed that the when k = 25 we get the maximum training accuracy in Linear Regression Model"
      ]
    },
    {
      "cell_type": "markdown",
      "metadata": {
        "id": "pHzg3qKjdM1u"
      },
      "source": [
        "### 25 Columns After RFE"
      ]
    },
    {
      "cell_type": "code",
      "execution_count": null,
      "metadata": {
        "id": "zVDqBK1DdM1u"
      },
      "outputs": [],
      "source": [
        "XX.columns"
      ]
    },
    {
      "cell_type": "code",
      "execution_count": null,
      "metadata": {
        "id": "ktWXBUOFdM1v"
      },
      "outputs": [],
      "source": [
        "XX.shape"
      ]
    },
    {
      "cell_type": "code",
      "execution_count": null,
      "metadata": {
        "id": "mVNmkqETdM1v"
      },
      "outputs": [],
      "source": [
        "XX.head()"
      ]
    },
    {
      "cell_type": "markdown",
      "metadata": {
        "id": "oRZNneFYx7kz"
      },
      "source": [
        "### Drop Useless Features"
      ]
    },
    {
      "cell_type": "code",
      "execution_count": null,
      "metadata": {
        "id": "j9GdXVpAdM1w"
      },
      "outputs": [],
      "source": [
        "features_drop = ['latitude', 'longitude', 'precipIntensity', 'humidity', 'windSpeed', 'windGust',\n",
        "       'temperatureHigh', 'apparentTemperatureHigh', 'dewPoint','precipIntensityMax',\n",
        "       'temperatureMax', 'distance', 'cloudCover']\n",
        "new_uber = XX.drop(features_drop, axis=1)"
      ]
    },
    {
      "cell_type": "code",
      "source": [
        "new_uber.isnull().sum()"
      ],
      "metadata": {
        "id": "CSEb8UxnCyvY"
      },
      "execution_count": null,
      "outputs": []
    },
    {
      "cell_type": "code",
      "execution_count": null,
      "metadata": {
        "id": "Ok0AlUmMx7k0"
      },
      "outputs": [],
      "source": [
        "new_uber.head()"
      ]
    },
    {
      "cell_type": "markdown",
      "metadata": {
        "id": "_Hk833eDx7k0"
      },
      "source": [
        "### Binning"
      ]
    },
    {
      "cell_type": "code",
      "execution_count": null,
      "metadata": {
        "id": "uJ6eapQOx7k1"
      },
      "outputs": [],
      "source": [
        "month_mapping = {11: 0, 12: 1}\n",
        "new_uber['month'] = new_uber['month'].map(month_mapping)"
      ]
    },
    {
      "cell_type": "code",
      "execution_count": null,
      "metadata": {
        "id": "eewgDLG7x7k1"
      },
      "outputs": [],
      "source": [
        "surge_multiplier_mapping = {1.: 0, 1.25: 1, 1.5: 2, 1.75: 3, 2.:4, 2.5: 5, 3.: 6}\n",
        "new_uber['surge_multiplier'] = new_uber['surge_multiplier'].map(surge_multiplier_mapping)"
      ]
    },
    {
      "cell_type": "code",
      "source": [
        "new_uber['surge_multiplier'].unique()"
      ],
      "metadata": {
        "id": "V4fhSxR7C89r"
      },
      "execution_count": null,
      "outputs": []
    },
    {
      "cell_type": "markdown",
      "metadata": {
        "id": "x_pzLDEQdM1w"
      },
      "source": [
        "### Final Dataset"
      ]
    },
    {
      "cell_type": "code",
      "execution_count": null,
      "metadata": {
        "id": "wyWua_W-dM1w"
      },
      "outputs": [],
      "source": [
        "new_uber.head()"
      ]
    },
    {
      "cell_type": "code",
      "execution_count": null,
      "metadata": {
        "id": "4301z2lmdM1w"
      },
      "outputs": [],
      "source": [
        "y.head()"
      ]
    },
    {
      "cell_type": "markdown",
      "metadata": {
        "id": "JF9cUd1cdM1x"
      },
      "source": [
        "## 5. Modeling\n",
        "-----------------------------------------------------"
      ]
    },
    {
      "cell_type": "code",
      "execution_count": null,
      "metadata": {
        "id": "Z2ycv_I1dM1x"
      },
      "outputs": [],
      "source": [
        "new_uber.shape"
      ]
    },
    {
      "cell_type": "code",
      "execution_count": null,
      "metadata": {
        "id": "l6g4DuvHdM1y"
      },
      "outputs": [],
      "source": [
        "y.shape"
      ]
    },
    {
      "cell_type": "code",
      "execution_count": null,
      "metadata": {
        "id": "Cs4mLXOJdM1y"
      },
      "outputs": [],
      "source": [
        "# Using Skicit-learn to split data into training and testing sets\n",
        "from sklearn.model_selection import train_test_split\n",
        "# Split the data into training and testing sets\n",
        "xx_train, xx_test, yy_train, yy_test = train_test_split(new_uber, y, test_size = 0.2, random_state = 42)"
      ]
    },
    {
      "cell_type": "code",
      "execution_count": null,
      "metadata": {
        "id": "NJUgsh3MdM1y"
      },
      "outputs": [],
      "source": [
        "xx_train.shape"
      ]
    },
    {
      "cell_type": "code",
      "execution_count": null,
      "metadata": {
        "id": "yilLNU7xdM1z"
      },
      "outputs": [],
      "source": [
        "xx_test.shape"
      ]
    },
    {
      "cell_type": "code",
      "execution_count": null,
      "metadata": {
        "id": "yxfu38ltdM1z"
      },
      "outputs": [],
      "source": [
        "yy_train.shape"
      ]
    },
    {
      "cell_type": "code",
      "execution_count": null,
      "metadata": {
        "id": "uLPsI8SbdM10"
      },
      "outputs": [],
      "source": [
        "yy_test.shape"
      ]
    },
    {
      "cell_type": "code",
      "execution_count": null,
      "metadata": {
        "id": "hl_HaXAQdM12"
      },
      "outputs": [],
      "source": [
        "from sklearn.linear_model import LinearRegression\n",
        "from sklearn.linear_model import LogisticRegression\n",
        "from sklearn.tree import DecisionTreeRegressor\n",
        "from sklearn.ensemble import RandomForestRegressor"
      ]
    },
    {
      "cell_type": "markdown",
      "metadata": {
        "id": "SGNZ4cfPdM13"
      },
      "source": [
        "#### 5.1 Linear regression"
      ]
    },
    {
      "cell_type": "code",
      "execution_count": null,
      "metadata": {
        "id": "oNFKta4rdM14"
      },
      "outputs": [],
      "source": [
        "linear = LinearRegression()\n",
        "linear.fit(xx_train, yy_train)\n",
        "linear.score(xx_test, yy_test)"
      ]
    },
    {
      "cell_type": "markdown",
      "metadata": {
        "id": "rkcejW5zdM16"
      },
      "source": [
        "#### 5.2 Decision Tree"
      ]
    },
    {
      "cell_type": "code",
      "source": [
        "xx_train.isnull().sum()"
      ],
      "metadata": {
        "id": "fpM6DjWaCXC4"
      },
      "execution_count": null,
      "outputs": []
    },
    {
      "cell_type": "code",
      "execution_count": null,
      "metadata": {
        "id": "rrsV9YTGdM16"
      },
      "outputs": [],
      "source": [
        "decision = DecisionTreeRegressor(random_state = 0)\n",
        "decision.fit(xx_train , yy_train)\n",
        "decision.score(xx_test, yy_test)"
      ]
    },
    {
      "cell_type": "markdown",
      "metadata": {
        "id": "KdJrUIRadM17"
      },
      "source": [
        "#### 5.3 Random Forest"
      ]
    },
    {
      "cell_type": "code",
      "execution_count": null,
      "metadata": {
        "id": "91iuwQ8AdM17"
      },
      "outputs": [],
      "source": [
        "random = RandomForestRegressor(n_estimators = 100, random_state = 0)\n",
        "random.fit(xx_train , yy_train)\n",
        "random.score(xx_test, yy_test)"
      ]
    },
    {
      "cell_type": "markdown",
      "metadata": {
        "id": "0U4PbilEx7k8"
      },
      "source": [
        "#### 5.4 Gradient Boosting Regressor"
      ]
    },
    {
      "cell_type": "code",
      "execution_count": null,
      "metadata": {
        "id": "7u2G6wZjx7k9"
      },
      "outputs": [],
      "source": [
        "from sklearn import ensemble\n",
        "clf = ensemble.GradientBoostingRegressor(n_estimators = 400, max_depth = 5)\n",
        "clf.fit(xx_train, yy_train)"
      ]
    },
    {
      "cell_type": "code",
      "execution_count": null,
      "metadata": {
        "id": "t9BL2W1Zx7k9"
      },
      "outputs": [],
      "source": [
        "clf.score(xx_test, yy_test)"
      ]
    },
    {
      "cell_type": "markdown",
      "metadata": {
        "id": "OGERTvFSx7k9"
      },
      "source": [
        "#### K fold Crossvalidation"
      ]
    },
    {
      "cell_type": "code",
      "execution_count": null,
      "metadata": {
        "id": "7WiCE6jex7k-"
      },
      "outputs": [],
      "source": [
        "from sklearn.model_selection import ShuffleSplit\n",
        "from sklearn.model_selection import cross_val_score\n",
        "cv=ShuffleSplit(n_splits=5,test_size=0.2,random_state=0)\n",
        "cross_val_score(LinearRegression(),xx_test,yy_test,cv=cv)"
      ]
    },
    {
      "cell_type": "markdown",
      "metadata": {
        "id": "-AH2Uz7odM2F"
      },
      "source": [
        "## 6. Testing\n",
        "-----------------------------------------------------"
      ]
    },
    {
      "cell_type": "markdown",
      "metadata": {
        "id": "Hw9X3uWyx7k_"
      },
      "source": [
        "#### Linear regression"
      ]
    },
    {
      "cell_type": "code",
      "execution_count": null,
      "metadata": {
        "id": "ag4gb7gyx7k_"
      },
      "outputs": [],
      "source": [
        "linear.coef_"
      ]
    },
    {
      "cell_type": "code",
      "execution_count": null,
      "metadata": {
        "id": "BHLtQmUCx7k_"
      },
      "outputs": [],
      "source": [
        "prediction = linear.predict(xx_test)\n",
        "prediction"
      ]
    },
    {
      "cell_type": "code",
      "execution_count": null,
      "metadata": {
        "id": "EogUTKr9x7lA"
      },
      "outputs": [],
      "source": [
        "prediction=  prediction.astype(int)"
      ]
    },
    {
      "cell_type": "raw",
      "metadata": {
        "id": "OI8vBYuBx7lA"
      },
      "source": [
        "plt.scatter(yy_test,prediction)\n",
        "plt.xlabel('Y Test')\n",
        "plt.ylabel('Predicted Y')"
      ]
    },
    {
      "cell_type": "code",
      "execution_count": null,
      "metadata": {
        "id": "pbI3x68zx7lA"
      },
      "outputs": [],
      "source": [
        "from sklearn import metrics\n",
        "print('MAE :',\" \", metrics.mean_absolute_error(yy_test,prediction))\n",
        "print('MSE :',\" \", metrics.mean_squared_error(yy_test,prediction))\n",
        "print('RMAE :',\" \", np.sqrt(metrics.mean_squared_error(yy_test,prediction)))"
      ]
    },
    {
      "cell_type": "code",
      "execution_count": null,
      "metadata": {
        "id": "Rt50g_acx7lB"
      },
      "outputs": [],
      "source": [
        "sns.distplot(yy_test - prediction,bins=50)"
      ]
    },
    {
      "cell_type": "markdown",
      "metadata": {
        "id": "U093z2lEdM18"
      },
      "source": [
        "#### Random Forest"
      ]
    },
    {
      "cell_type": "code",
      "execution_count": null,
      "metadata": {
        "id": "fLbe3dALx7lB"
      },
      "outputs": [],
      "source": [
        "predictions = random.predict(xx_test)"
      ]
    },
    {
      "cell_type": "code",
      "execution_count": null,
      "metadata": {
        "id": "tBzyW4N7x7lC"
      },
      "outputs": [],
      "source": [
        "sns.regplot(x=yy_test,y=predictions)\n",
        "plt.xlabel('Y Test')\n",
        "plt.ylabel('Predicted Y')"
      ]
    },
    {
      "cell_type": "code",
      "execution_count": null,
      "metadata": {
        "id": "ttkd7rmax7lC"
      },
      "outputs": [],
      "source": [
        "from sklearn import metrics\n",
        "print('MAE :',\" \", metrics.mean_absolute_error(yy_test,predictions))\n",
        "print('MSE :',\" \", metrics.mean_squared_error(yy_test,predictions))\n",
        "print('RMAE :',\" \", np.sqrt(metrics.mean_squared_error(yy_test,predictions)))"
      ]
    },
    {
      "cell_type": "code",
      "execution_count": null,
      "metadata": {
        "id": "OL_tMSelx7lC"
      },
      "outputs": [],
      "source": [
        "sns.distplot(yy_test - predictions,bins=50)"
      ]
    },
    {
      "cell_type": "markdown",
      "metadata": {
        "id": "dKkVFu86x7lD"
      },
      "source": [
        "#### Price prediction function"
      ]
    },
    {
      "cell_type": "code",
      "execution_count": null,
      "metadata": {
        "id": "cuYz261mx7lD"
      },
      "outputs": [],
      "source": [
        "new_uber.head()"
      ]
    },
    {
      "cell_type": "code",
      "execution_count": null,
      "metadata": {
        "id": "E-Q9d2aox7lD"
      },
      "outputs": [],
      "source": [
        "def predict_price(name,source,surge_multiplier,icon):\n",
        "    loc_index = np.where(new_uber.columns==name)[0]\n",
        "\n",
        "    x = np.zeros(len(new_uber.columns))\n",
        "    x[0] = source\n",
        "    x[1] = surge_multiplier\n",
        "    x[2] = icon\n",
        "    if loc_index >= 0:\n",
        "        x[loc_index] = 1\n",
        "\n",
        "    return random.predict([x])[0]"
      ]
    },
    {
      "cell_type": "code",
      "execution_count": null,
      "metadata": {
        "id": "oCT_frHKdM2F"
      },
      "outputs": [],
      "source": [
        "pre= random.predict(xx_test)"
      ]
    },
    {
      "cell_type": "markdown",
      "metadata": {
        "id": "tO6ODkdVx7lE"
      },
      "source": [
        "####  <span style='background:yellow'>Follow  these instructions before predicting the price:</span>\n",
        "<hr>\n",
        "\n",
        "-  **For cab_name**:  <font color = 'red'>Black SUV --> 0 , Lux --> 1 , Shared --> 2 , Taxi --> 3 , UberPool --> 4 , UberX --> 5</font>\n",
        "\n",
        "\n",
        "- **For Source**:  <font color = 'blue'>Back Bay --> 0 , Beacon Hill --> 1 , Boston University --> 2 , Fenway --> 3 , Financial District --> 4 , Haymarket Square --> 5 , North End --> 6 , North Station --> 7 , Northeastern University --> 8 , South Station --> 9 , Theatre District --> 10 , West End --> 11</font>\n",
        "\n",
        "\n",
        "- **For Surge_multiplier** : <font color = 'red'>Enter Surge Multiplier value from 0 to 4</font>\n",
        "\n",
        "\n",
        "- **for Icon**:  <font color = 'blue'>clear-day  --> 0 , clear-night  --> 1 , cloudy  --> 2 , fog  --> 3 , partly-cloudy-day  --> 4 , partly-cloudy-night  --> 5 , rain  --> 6</font>\n"
      ]
    },
    {
      "cell_type": "markdown",
      "metadata": {
        "id": "bBFA_SKUx7lF"
      },
      "source": [
        "<span style='background:yellow'>**predict_price(cab_name , source , surge_multiplier , icon)**</span>"
      ]
    },
    {
      "cell_type": "code",
      "execution_count": null,
      "metadata": {
        "id": "ztGSvCk9x7lF"
      },
      "outputs": [],
      "source": [
        "predict_price(1 , 3, 2, 0)"
      ]
    },
    {
      "cell_type": "code",
      "execution_count": null,
      "metadata": {
        "id": "Htlz5h-Mx7lG"
      },
      "outputs": [],
      "source": []
    }
  ],
  "metadata": {
    "colab": {
      "provenance": []
    },
    "kernelspec": {
      "display_name": "Python 3 (ipykernel)",
      "language": "python",
      "name": "python3"
    },
    "language_info": {
      "codemirror_mode": {
        "name": "ipython",
        "version": 3
      },
      "file_extension": ".py",
      "mimetype": "text/x-python",
      "name": "python",
      "nbconvert_exporter": "python",
      "pygments_lexer": "ipython3",
      "version": "3.11.5"
    }
  },
  "nbformat": 4,
  "nbformat_minor": 0
}